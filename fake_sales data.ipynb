{
 "cells": [
  {
   "cell_type": "code",
   "execution_count": 1,
   "id": "4122b44d-d6e6-429f-bb35-02c55ac48ee2",
   "metadata": {},
   "outputs": [],
   "source": [
    "import pandas as pd \n",
    "import random \n",
    "from datetime import datetime,timedelta"
   ]
  },
  {
   "cell_type": "code",
   "execution_count": 21,
   "id": "6c555f17-b6e5-4887-8ec0-c01bdf18abc2",
   "metadata": {},
   "outputs": [],
   "source": [
    "def generate_sales_data(num_orders):\n",
    "    items = ['Table', 'Chair', 'Cabinet', 'Sofa', 'Door']\n",
    "    data = []\n",
    "    for i in range(1,num_orders):\n",
    "        order_ID = f'order  {i}'\n",
    "        customer = f'Customer {i}'\n",
    "        date = datetime.now() - timedelta(days= random.randint(330,695))\n",
    "        date = date.strftime('%d-%m-%Y')\n",
    "        num_items = random.randint(3,len(items))\n",
    "        # create a row for each item\n",
    "        for item_idx in range(num_items):\n",
    "            item = random.choice(items)\n",
    "            qty = random.randint(1,20)\n",
    "            unit_price = random.randint(100,1000)\n",
    "            unit_cost = unit_price *0.7\n",
    "            total_sales = qty*unit_price\n",
    "            total_cost= qty*unit_cost\n",
    "            row = {'date':date,\n",
    "                  'order_ID': order_ID,\n",
    "                  'customer' : customer,\n",
    "                   'item':item,\n",
    "                   'qty':qty,\n",
    "                   'unit_price':unit_price,\n",
    "                   'unit_cost': unit_cost,\n",
    "                   'total_sales':total_sales,\n",
    "                   'total_cost':total_cost\n",
    "                  }\n",
    "            data.append(row)\n",
    "    data = pd.DataFrame(data)\n",
    "    \n",
    "    return data\n",
    "            \n",
    "        \n",
    "    "
   ]
  },
  {
   "cell_type": "code",
   "execution_count": 24,
   "id": "f84a12f1-c371-4349-9c7c-54f9c08880d1",
   "metadata": {},
   "outputs": [],
   "source": [
    "data = generate_sales_data(1000)\n",
    "data.to_csv(path_or_buf='data.csv',index=False)"
   ]
  },
  {
   "cell_type": "code",
   "execution_count": null,
   "id": "83d0383a-a65a-4ebe-9be6-08e2d09506b7",
   "metadata": {},
   "outputs": [],
   "source": []
  }
 ],
 "metadata": {
  "kernelspec": {
   "display_name": "Python 3 (ipykernel)",
   "language": "python",
   "name": "python3"
  },
  "language_info": {
   "codemirror_mode": {
    "name": "ipython",
    "version": 3
   },
   "file_extension": ".py",
   "mimetype": "text/x-python",
   "name": "python",
   "nbconvert_exporter": "python",
   "pygments_lexer": "ipython3",
   "version": "3.11.5"
  }
 },
 "nbformat": 4,
 "nbformat_minor": 5
}
